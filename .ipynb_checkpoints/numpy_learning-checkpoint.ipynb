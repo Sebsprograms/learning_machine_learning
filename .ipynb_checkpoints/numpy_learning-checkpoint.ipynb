{
 "cells": [
  {
   "cell_type": "code",
   "execution_count": 4,
   "id": "ad837f7a-f98e-4c37-8f77-9169c9470c77",
   "metadata": {},
   "outputs": [],
   "source": [
    "import numpy as np"
   ]
  },
  {
   "cell_type": "code",
   "execution_count": 7,
   "id": "2426d9df-97ff-4b8a-95e2-4a05c3ae21aa",
   "metadata": {},
   "outputs": [],
   "source": [
    "# arange creates an array of ints\n",
    "a1 = np.arange(8)\n",
    "# arange can have start, stop and step interval args\n",
    "a2 = np.arange(3, 10, 2)"
   ]
  },
  {
   "cell_type": "code",
   "execution_count": 8,
   "id": "7e9a6f5f-d7c0-4db6-94c1-551b83875967",
   "metadata": {},
   "outputs": [
    {
     "name": "stdout",
     "output_type": "stream",
     "text": [
      "[0 1 2 3 4 5 6 7]\n",
      "(8,)\n",
      "[3 5 7 9]\n",
      "(4,)\n"
     ]
    }
   ],
   "source": [
    "print(a1)\n",
    "print(a2)\n",
    "# Shape prop gives us details on the array like what rank the nested arrays are and how long\n",
    "print(a1.shape)\n",
    "print(a2.shape)"
   ]
  },
  {
   "cell_type": "code",
   "execution_count": 10,
   "id": "73de28b5-9139-4ae3-bfb8-ea74f09f791b",
   "metadata": {},
   "outputs": [
    {
     "name": "stdout",
     "output_type": "stream",
     "text": [
      "[0. 0. 0.]\n"
     ]
    }
   ],
   "source": [
    "# zeros method generates an array with a given number of zeros\n",
    "a3 = np.zeros(3)\n",
    "print(a3);"
   ]
  },
  {
   "cell_type": "code",
   "execution_count": 11,
   "id": "57471f0e-6790-4d97-ae24-fe6079fe7f17",
   "metadata": {},
   "outputs": [],
   "source": [
    "# zeros method can also generate 2d arrays of zeros like so "
   ]
  },
  {
   "cell_type": "code",
   "execution_count": 12,
   "id": "a891bf53-043e-4382-8367-6ab6b98bf2e9",
   "metadata": {},
   "outputs": [
    {
     "name": "stdout",
     "output_type": "stream",
     "text": [
      "[[0. 0. 0. 0.]\n",
      " [0. 0. 0. 0.]]\n"
     ]
    }
   ],
   "source": [
    "a4 = np.zeros((2,4));\n",
    "print(a4);"
   ]
  },
  {
   "cell_type": "code",
   "execution_count": 13,
   "id": "b9b1bd18-af9b-40da-8ca4-d08df7dc800d",
   "metadata": {},
   "outputs": [
    {
     "name": "stdout",
     "output_type": "stream",
     "text": [
      "[[7]\n",
      " [7]]\n"
     ]
    }
   ],
   "source": [
    "# full method generates arrays like zeros() but fills it with the arg element\n",
    "a5 = np.full((2,1), 7)\n",
    "print(a5)"
   ]
  },
  {
   "cell_type": "code",
   "execution_count": 14,
   "id": "fa6b8a93-a2e6-4413-af13-a44ca79fc27e",
   "metadata": {},
   "outputs": [
    {
     "name": "stdout",
     "output_type": "stream",
     "text": [
      "[[1. 0. 0. 0. 0. 0.]\n",
      " [0. 1. 0. 0. 0. 0.]\n",
      " [0. 0. 1. 0. 0. 0.]\n",
      " [0. 0. 0. 1. 0. 0.]\n",
      " [0. 0. 0. 0. 1. 0.]\n",
      " [0. 0. 0. 0. 0. 1.]]\n"
     ]
    }
   ],
   "source": [
    "# The eye method generates a 2d array with 1s going diagonally across the rows\n",
    "a6 = np.eye(6)\n",
    "print(a6)"
   ]
  },
  {
   "cell_type": "code",
   "execution_count": null,
   "id": "a47ce405-8ac1-40c5-80cf-384fc28553ac",
   "metadata": {},
   "outputs": [],
   "source": []
  }
 ],
 "metadata": {
  "kernelspec": {
   "display_name": "Python 3 (ipykernel)",
   "language": "python",
   "name": "python3"
  },
  "language_info": {
   "codemirror_mode": {
    "name": "ipython",
    "version": 3
   },
   "file_extension": ".py",
   "mimetype": "text/x-python",
   "name": "python",
   "nbconvert_exporter": "python",
   "pygments_lexer": "ipython3",
   "version": "3.11.7"
  }
 },
 "nbformat": 4,
 "nbformat_minor": 5
}
