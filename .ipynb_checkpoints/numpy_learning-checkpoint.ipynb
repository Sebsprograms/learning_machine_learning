{
 "cells": [
  {
   "cell_type": "code",
   "execution_count": 3,
   "id": "ad837f7a-f98e-4c37-8f77-9169c9470c77",
   "metadata": {},
   "outputs": [],
   "source": [
    "import numpy as np"
   ]
  },
  {
   "cell_type": "code",
   "execution_count": 5,
   "id": "2426d9df-97ff-4b8a-95e2-4a05c3ae21aa",
   "metadata": {},
   "outputs": [],
   "source": [
    "a1 = np.arange(8)"
   ]
  },
  {
   "cell_type": "code",
   "execution_count": 6,
   "id": "7e9a6f5f-d7c0-4db6-94c1-551b83875967",
   "metadata": {},
   "outputs": [
    {
     "name": "stdout",
     "output_type": "stream",
     "text": [
      "[0 1 2 3 4 5 6 7]\n",
      "(8,)\n"
     ]
    }
   ],
   "source": [
    "print(a1)\n",
    "print(a1.shape)"
   ]
  },
  {
   "cell_type": "code",
   "execution_count": null,
   "id": "73de28b5-9139-4ae3-bfb8-ea74f09f791b",
   "metadata": {},
   "outputs": [],
   "source": []
  }
 ],
 "metadata": {
  "kernelspec": {
   "display_name": "Python 3 (ipykernel)",
   "language": "python",
   "name": "python3"
  },
  "language_info": {
   "codemirror_mode": {
    "name": "ipython",
    "version": 3
   },
   "file_extension": ".py",
   "mimetype": "text/x-python",
   "name": "python",
   "nbconvert_exporter": "python",
   "pygments_lexer": "ipython3",
   "version": "3.11.7"
  }
 },
 "nbformat": 4,
 "nbformat_minor": 5
}
