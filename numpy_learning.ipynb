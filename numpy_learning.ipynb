{
 "cells": [
  {
   "cell_type": "code",
   "execution_count": 4,
   "id": "ad837f7a-f98e-4c37-8f77-9169c9470c77",
   "metadata": {},
   "outputs": [],
   "source": [
    "import numpy as np"
   ]
  },
  {
   "cell_type": "code",
   "execution_count": 7,
   "id": "2426d9df-97ff-4b8a-95e2-4a05c3ae21aa",
   "metadata": {},
   "outputs": [],
   "source": [
    "# arange creates an array of ints\n",
    "a1 = np.arange(8)\n",
    "# arange can have start, stop and step interval args\n",
    "a2 = np.arange(3, 10, 2)"
   ]
  },
  {
   "cell_type": "code",
   "execution_count": 8,
   "id": "7e9a6f5f-d7c0-4db6-94c1-551b83875967",
   "metadata": {},
   "outputs": [
    {
     "name": "stdout",
     "output_type": "stream",
     "text": [
      "[0 1 2 3 4 5 6 7]\n",
      "(8,)\n",
      "[3 5 7 9]\n",
      "(4,)\n"
     ]
    }
   ],
   "source": [
    "print(a1)\n",
    "print(a2)\n",
    "# Shape prop gives us details on the array like what rank the nested arrays are and how long\n",
    "print(a1.shape)\n",
    "print(a2.shape)"
   ]
  },
  {
   "cell_type": "code",
   "execution_count": 10,
   "id": "73de28b5-9139-4ae3-bfb8-ea74f09f791b",
   "metadata": {},
   "outputs": [
    {
     "name": "stdout",
     "output_type": "stream",
     "text": [
      "[0. 0. 0.]\n"
     ]
    }
   ],
   "source": [
    "# zeros method generates an array with a given number of zeros\n",
    "a3 = np.zeros(3)\n",
    "print(a3);"
   ]
  },
  {
   "cell_type": "code",
   "execution_count": 11,
   "id": "57471f0e-6790-4d97-ae24-fe6079fe7f17",
   "metadata": {},
   "outputs": [],
   "source": [
    "# zeros method can also generate 2d arrays of zeros like so "
   ]
  },
  {
   "cell_type": "code",
   "execution_count": 12,
   "id": "a891bf53-043e-4382-8367-6ab6b98bf2e9",
   "metadata": {},
   "outputs": [
    {
     "name": "stdout",
     "output_type": "stream",
     "text": [
      "[[0. 0. 0. 0.]\n",
      " [0. 0. 0. 0.]]\n"
     ]
    }
   ],
   "source": [
    "a4 = np.zeros((2,4));\n",
    "print(a4);"
   ]
  },
  {
   "cell_type": "code",
   "execution_count": 13,
   "id": "b9b1bd18-af9b-40da-8ca4-d08df7dc800d",
   "metadata": {},
   "outputs": [
    {
     "name": "stdout",
     "output_type": "stream",
     "text": [
      "[[7]\n",
      " [7]]\n"
     ]
    }
   ],
   "source": [
    "# full method generates arrays like zeros() but fills it with the arg element\n",
    "a5 = np.full((2,1), 7)\n",
    "print(a5)"
   ]
  },
  {
   "cell_type": "code",
   "execution_count": 15,
   "id": "fa6b8a93-a2e6-4413-af13-a44ca79fc27e",
   "metadata": {},
   "outputs": [
    {
     "name": "stdout",
     "output_type": "stream",
     "text": [
      "[[1. 0. 0. 0. 0. 0.]\n",
      " [0. 1. 0. 0. 0. 0.]\n",
      " [0. 0. 1. 0. 0. 0.]\n",
      " [0. 0. 0. 1. 0. 0.]\n",
      " [0. 0. 0. 0. 1. 0.]\n",
      " [0. 0. 0. 0. 0. 1.]]\n"
     ]
    }
   ],
   "source": [
    "# The eye method generates a 2d array with 1s going diagonally across the rows\n",
    "a6 = np.eye(6)\n",
    "print(a6)"
   ]
  },
  {
   "cell_type": "code",
   "execution_count": 16,
   "id": "a47ce405-8ac1-40c5-80cf-384fc28553ac",
   "metadata": {},
   "outputs": [
    {
     "name": "stdout",
     "output_type": "stream",
     "text": [
      "[[0.45861025 0.63932095 0.82924551 0.21354766]\n",
      " [0.92756059 0.00753873 0.61636425 0.49980633]]\n"
     ]
    }
   ],
   "source": [
    "# Random method used to generate an array of random values\n",
    "a7 = np.random.random((2,4))\n",
    "print(a7)"
   ]
  },
  {
   "cell_type": "code",
   "execution_count": 17,
   "id": "59f5114e-62e1-4a98-9e15-8bbcab5f0df4",
   "metadata": {},
   "outputs": [
    {
     "name": "stdout",
     "output_type": "stream",
     "text": [
      "[1 2 3]\n"
     ]
    }
   ],
   "source": [
    "# Use a python list to generate an array\n",
    "sampleList = [1, 2, 3]\n",
    "r1 = np.array(sampleList)\n",
    "print(r1)"
   ]
  },
  {
   "cell_type": "code",
   "execution_count": 18,
   "id": "9ad7c64f-9eed-4c36-957f-470f9b731a4e",
   "metadata": {},
   "outputs": [
    {
     "name": "stdout",
     "output_type": "stream",
     "text": [
      "2\n"
     ]
    }
   ],
   "source": [
    "# Access is similar to a python list \n",
    "print(r1[1])"
   ]
  },
  {
   "cell_type": "code",
   "execution_count": 24,
   "id": "0eb9682e-58a5-4102-a446-1cad4c5067a1",
   "metadata": {},
   "outputs": [
    {
     "name": "stdout",
     "output_type": "stream",
     "text": [
      "[[1 2 3]\n",
      " [1 2 4]]\n",
      "(2, 3)\n"
     ]
    }
   ],
   "source": [
    "# You can also generate a 2d array from lists \n",
    "r2 = np.array([sampleList, [1,2, 4]])\n",
    "print(r2)\n",
    "print(r2.shape)"
   ]
  },
  {
   "cell_type": "code",
   "execution_count": 27,
   "id": "add6ec21-631e-4eed-aa45-44dac4003273",
   "metadata": {},
   "outputs": [
    {
     "name": "stdout",
     "output_type": "stream",
     "text": [
      "[1 3]\n"
     ]
    }
   ],
   "source": [
    "# Access is similar \n",
    "print(r1[[0, 2]])"
   ]
  },
  {
   "cell_type": "code",
   "execution_count": 28,
   "id": "225cc78d-ddbb-4618-bf6a-9ad5ff0e5888",
   "metadata": {},
   "outputs": [],
   "source": [
    "# Boolean indexing can be used to check which index passes a condition "
   ]
  },
  {
   "cell_type": "code",
   "execution_count": 30,
   "id": "057c51b4-a06c-4fb1-a3f3-2cbd94f9c50e",
   "metadata": {},
   "outputs": [
    {
     "name": "stdout",
     "output_type": "stream",
     "text": [
      "[False False  True]\n",
      "[3]\n"
     ]
    }
   ],
   "source": [
    "print(r1>2)\n",
    "print(r1[r1 > 2])"
   ]
  },
  {
   "cell_type": "code",
   "execution_count": 32,
   "id": "ba105844-3f63-4e87-a57b-999473e8007a",
   "metadata": {},
   "outputs": [
    {
     "name": "stdout",
     "output_type": "stream",
     "text": [
      "[ 0  2  4  6  8 10 12 14 16 18]\n"
     ]
    }
   ],
   "source": [
    "# If you want all elements that pass a different condition use the same pattern\n",
    "nums = np.arange(20)\n",
    "print(nums[nums % 2 ==0])"
   ]
  },
  {
   "cell_type": "code",
   "execution_count": 39,
   "id": "d5168dac-d004-4eac-8b0f-760e561c0b81",
   "metadata": {},
   "outputs": [
    {
     "name": "stdout",
     "output_type": "stream",
     "text": [
      "[[1 2 3 4 5]\n",
      " [1 2 3 4 5]\n",
      " [1 2 3 4 5]]\n"
     ]
    }
   ],
   "source": [
    "# How to slice a 2d array\n",
    "newArr = np.array([[1,2,3,4,5],[1,2,3,4,5],[1,2,3,4,5]])\n",
    "print(newArr);"
   ]
  },
  {
   "cell_type": "code",
   "execution_count": 42,
   "id": "1bd7e472-0e2b-41c7-9273-a59e998c9558",
   "metadata": {},
   "outputs": [
    {
     "name": "stdout",
     "output_type": "stream",
     "text": [
      "[[1 2]\n",
      " [1 2]]\n"
     ]
    }
   ],
   "source": [
    "# The first arg in the slice is the rows or outer arrays and the second arg is the columns or contents of each list \n",
    "b1 = newArr[0:2, :2]\n",
    "print(b1);"
   ]
  },
  {
   "cell_type": "code",
   "execution_count": 46,
   "id": "f5b6c9ea-58fb-4555-859d-77107b77752a",
   "metadata": {},
   "outputs": [
    {
     "name": "stdout",
     "output_type": "stream",
     "text": [
      "[[1 2 3]\n",
      " [1 2 3]]\n"
     ]
    }
   ],
   "source": [
    "# Negative indices also work and step backwards from the end of each respective list \n",
    "b2 = newArr[:-1, :-2]\n",
    "print(b2)"
   ]
  },
  {
   "cell_type": "code",
   "execution_count": 49,
   "id": "e271f8e8-e87a-47aa-be4a-58c6c9c4d5f2",
   "metadata": {},
   "outputs": [
    {
     "name": "stdout",
     "output_type": "stream",
     "text": [
      "[[1 2 6 4 5]\n",
      " [1 2 3 4 5]\n",
      " [1 2 3 4 5]]\n"
     ]
    }
   ],
   "source": [
    "# Slices are only references to the original list \n",
    "# Modifications to the b2 reference are applied to the original array. \n",
    "b2[0, 2] = 6\n",
    "print(newArr)"
   ]
  },
  {
   "cell_type": "code",
   "execution_count": 50,
   "id": "40ddda84-47a5-4d33-90c4-67662cd085e5",
   "metadata": {},
   "outputs": [
    {
     "name": "stdout",
     "output_type": "stream",
     "text": [
      "(1, 5)\n",
      "(5,)\n"
     ]
    }
   ],
   "source": [
    "# The shapes of slices depend on how you slice them\n",
    "b3 = newArr[2:, :]\n",
    "b4 = newArr[2, :]\n",
    "print(b3.shape)\n",
    "print(b4.shape)"
   ]
  },
  {
   "cell_type": "code",
   "execution_count": 56,
   "id": "ec19b8dc-bbde-470d-ac6b-3ce716912916",
   "metadata": {},
   "outputs": [
    {
     "name": "stdout",
     "output_type": "stream",
     "text": [
      "[[1 2 3 4 5]]\n",
      "[[1 2 3 4 5]]\n",
      "[1 2 3 4 5]\n",
      "[1 2 3 4 5]\n"
     ]
    }
   ],
   "source": [
    "# Reshape lets you reshape an array like the previous rank 1 converting to a rank 2 or vice versa\n",
    "print(b4)\n",
    "b4 = b4.reshape(1, -1)\n",
    "print(b4)\n",
    "\n",
    "print(b3)\n",
    "b3 = b3.reshape(-1 , )\n",
    "print(b3)"
   ]
  },
  {
   "cell_type": "code",
   "execution_count": 60,
   "id": "26a2ce9c-e400-4af3-b2ad-1ff6056716e0",
   "metadata": {},
   "outputs": [
    {
     "name": "stdout",
     "output_type": "stream",
     "text": [
      "[[5 7 9]\n",
      " [5 7 9]]\n"
     ]
    }
   ],
   "source": [
    "# How to perform array math using numpy \n",
    "x1 = np.array([[1,2,3], [1,2,3]])\n",
    "y1 = np.array([[4,5,6], [4,5,6]])\n",
    "\n",
    "print(x1 + y1)"
   ]
  },
  {
   "cell_type": "code",
   "execution_count": 62,
   "id": "36c10a78-b84a-4a0e-8acf-d206fd399c76",
   "metadata": {},
   "outputs": [
    {
     "name": "stdout",
     "output_type": "stream",
     "text": [
      "[2 4]\n"
     ]
    }
   ],
   "source": [
    "# A common use of array math is in use of vectors\n",
    "x1 = np.array([1, 3])\n",
    "y1 = np.array([1, 1])\n",
    "result = x1 + y1\n",
    "print(result)"
   ]
  },
  {
   "cell_type": "code",
   "execution_count": 63,
   "id": "f125d227-c691-4bf6-a408-d85dfd170be4",
   "metadata": {},
   "outputs": [
    {
     "name": "stdout",
     "output_type": "stream",
     "text": [
      "[0 2]\n",
      "[1 3]\n",
      "[1. 3.]\n"
     ]
    }
   ],
   "source": [
    "# the other operators also work\n",
    "print(x1 - y1)\n",
    "print(x1 * y1)\n",
    "print(x1 / y1)"
   ]
  },
  {
   "cell_type": "code",
   "execution_count": 64,
   "id": "1de9f28a-6120-4cec-8440-8ebf318adc23",
   "metadata": {},
   "outputs": [],
   "source": [
    "# Practical use example \n",
    "names = np.array(['seb', 'mich', 'ren'])\n",
    "heights = np.array([1.90, 1.4, 2.1])\n",
    "weights = np.array([100, 110, 120])"
   ]
  },
  {
   "cell_type": "code",
   "execution_count": null,
   "id": "ee2606c5-622c-491d-af5a-6b98d4913a43",
   "metadata": {},
   "outputs": [],
   "source": []
  }
 ],
 "metadata": {
  "kernelspec": {
   "display_name": "Python 3 (ipykernel)",
   "language": "python",
   "name": "python3"
  },
  "language_info": {
   "codemirror_mode": {
    "name": "ipython",
    "version": 3
   },
   "file_extension": ".py",
   "mimetype": "text/x-python",
   "name": "python",
   "nbconvert_exporter": "python",
   "pygments_lexer": "ipython3",
   "version": "3.11.7"
  }
 },
 "nbformat": 4,
 "nbformat_minor": 5
}
